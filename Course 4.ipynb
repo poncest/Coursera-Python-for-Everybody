{
 "cells": [
  {
   "cell_type": "markdown",
   "metadata": {},
   "source": [
    "# Program: Coursera Python for Everybody Specialization \n",
    "Course #4: Using Databases with Python\n",
    "\n",
    "Created: December 2020\n",
    "\n",
    "@author: Steven Ponce\n"
   ]
  },
  {
   "cell_type": "markdown",
   "metadata": {},
   "source": [
    "## Week 2 Assignment – Our First Database\n",
    "\n",
    "Instructions\n",
    "If you don't already have it, install the SQLite Browser from http://sqlitebrowser.org/.\n",
    "\n",
    "Then, create a SQLITE database or use an existing database and create a table in the database called \"Ages\":\n",
    "\n",
    "CREATE TABLE Ages ( \n",
    "  name VARCHAR(128), \n",
    "  age INTEGER\n",
    ")\n",
    "\n",
    "Then make sure the table is empty by deleting any rows that you previously inserted, and insert these rows and only these rows with the following commands:\n",
    "\n",
    "DELETE FROM Ages;\n",
    "\n",
    "INSERT INTO Ages (name, age) VALUES ('Alessandra', 13);\n",
    "\n",
    "INSERT INTO Ages (name, age) VALUES ('Reggie', 18);\n",
    "\n",
    "INSERT INTO Ages (name, age) VALUES ('Clove', 32);\n",
    "\n",
    "INSERT INTO Ages (name, age) VALUES ('Joanne', 14);\n",
    "\n",
    "INSERT INTO Ages (name, age) VALUES ('Kacey', 37);\n",
    "\n",
    "INSERT INTO Ages (name, age) VALUES ('Titi', 24);\n",
    "\n",
    "\n",
    "Once the inserts are done, run the following SQL command:\n",
    "SELECT hex(name || age) AS X FROM Ages ORDER BY X\n",
    "\n",
    "Find the first row in the resulting record set and enter the long string that looks like 53656C696E613333.\n"
   ]
  },
  {
   "cell_type": "code",
   "execution_count": null,
   "metadata": {},
   "outputs": [],
   "source": []
  },
  {
   "attachments": {},
   "cell_type": "markdown",
   "metadata": {},
   "source": [
    "Create Table Ages\n",
    "\n",
    "<img src=\"https:\\github.com\poncest\Python-for-Everybody\blob\main\images\Fig2.1.png">,
    "<img src=\"images\\Fig2.1.png\" style=\"height:300px\">\n"
   ]
  },
  {
   "cell_type": "code",
   "execution_count": null,
   "metadata": {},
   "outputs": [],
   "source": []
  },
  {
   "attachments": {},
   "cell_type": "markdown",
   "metadata": {},
   "source": [
    "Empty Table\n",
    "\n",
    "<img src=\"images\\Fig2.2.png\" style=\"height:300px\">"
   ]
  },
  {
   "cell_type": "code",
   "execution_count": null,
   "metadata": {},
   "outputs": [],
   "source": []
  },
  {
   "attachments": {},
   "cell_type": "markdown",
   "metadata": {},
   "source": [
    "Adding rows to the table\n",
    "\n",
    "<img src=\"images\\Fig2.3.png\" style=\"height:300px\">"
   ]
  },
  {
   "cell_type": "code",
   "execution_count": null,
   "metadata": {},
   "outputs": [],
   "source": []
  },
  {
   "attachments": {},
   "cell_type": "markdown",
   "metadata": {},
   "source": [
    "Running the following SQL command: \n",
    "\n",
    "SELECT hex(name || age) AS X FROM Ages ORDER BY X\n",
    "\n",
    "<img src=\"images\\Fig2.4.png\" style=\"height:300px\">"
   ]
  },
  {
   "cell_type": "code",
   "execution_count": null,
   "metadata": {},
   "outputs": [],
   "source": []
  },
  {
   "cell_type": "markdown",
   "metadata": {},
   "source": [
    "## Week 2 Assignment – Counting Email in a Database\n",
    "\n",
    "To get credit for this assignment, perform the instructions below and upload your SQLite3 database here:\n",
    "(Must have a .sqlite suffix)\n",
    "\n",
    "Hint: The top organizational count is 536.\n",
    "\n",
    "You do not need to export or convert the database - simply upload the .sqlite file that your program creates. See the example code for the use of the connect() statement.\n",
    "\n",
    "### Counting Organizations\n",
    "This application will read the mailbox data (mbox.txt) and count the number of email messages per organization (i.e. domain name of the email address) using a database with the following schema to maintain the counts.\n",
    "\n",
    "CREATE TABLE Counts (org TEXT, count INTEGER)\n",
    "When you have run the program on mbox.txt upload the resulting database file above for grading.\n",
    "If you run the program multiple times in testing or with dfferent files, make sure to empty out the data before each run.\n",
    "\n",
    "You can use this code as a starting point for your application: http://www.py4e.com/code3/emaildb.py.\n",
    "\n",
    "The data file for this application is the same as in previous assignments: http://www.py4e.com/code3/mbox.txt.\n",
    "\n",
    "Because the sample code is using an UPDATE statement and committing the results to the database as each record is read in the loop, it might take as long as a few minutes to process all the data. The commit insists on completely writing all the data to disk every time it is called.\n",
    "\n",
    "The program can be speeded up greatly by moving the commit operation outside of the loop. In any database program, there is a balance between the number of operations you execute between commits and the importance of not losing the results of operations that have not yet been committed."
   ]
  },
  {
   "cell_type": "code",
   "execution_count": null,
   "metadata": {},
   "outputs": [],
   "source": []
  },
  {
   "cell_type": "code",
   "execution_count": null,
   "metadata": {},
   "outputs": [],
   "source": [
    "import sqlite3\n",
    "\n",
    "# connecting to the file\n",
    "conn = sqlite3.connect('counting_emaildb.sqlite')\n",
    "cur = conn.cursor()\n",
    "\n",
    "# delete any previous table\n",
    "cur.execute('DROP TABLE IF EXISTS Counts')\n",
    "\n",
    "# create new table\n",
    "cur.execute('''\n",
    "CREATE TABLE Counts (org TEXT, count INTEGER)''')                          \n",
    "\n",
    "# user input file name\n",
    "fname = input('Enter file name: ')\n",
    "if (len(fname) < 1): fname = 'mbox.txt'\n",
    "fh = open(fname)\n",
    "\n",
    "# reading ea line and splitting into name and org\n",
    "for line in fh:\n",
    "    if not line.startswith('From: '): continue\n",
    "    pieces = line.split()\n",
    "    email = pieces[1]\n",
    "    domain = email.find('@')\n",
    "    org = email[domain+1:len(email)]\n",
    "    \n",
    "    \n",
    "# Updating the table                                                         \n",
    "    cur.execute('SELECT count FROM Counts WHERE org = ? ', (org,))    \n",
    "    row = cur.fetchone()                                                \n",
    "    \n",
    "    if row is None:\n",
    "        cur.execute('''INSERT INTO Counts (org, count)\n",
    "                VALUES (?, 1)''', (org,))\n",
    "    else:\n",
    "        cur.execute('UPDATE Counts SET count = count + 1 WHERE org = ?',     \n",
    "                    (org,))\n",
    "                                                                 \n",
    "\n",
    "# top 10 results\n",
    "sqlstr = 'SELECT org, count FROM Counts ORDER BY Count DESC LIMIT 10'       \n",
    "\n",
    "for row in cur.execute(sqlstr):\n",
    "    print(str(row[0]), row[1])\n",
    "\n",
    "# commit the changes and close connection    \n",
    "conn.commit()       \n",
    "cur.close()                                                                    \n"
   ]
  },
  {
   "cell_type": "code",
   "execution_count": null,
   "metadata": {},
   "outputs": [],
   "source": []
  },
  {
   "cell_type": "markdown",
   "metadata": {},
   "source": [
    "### Code Output:\n",
    "\n",
    "Enter file name: mbox.txt\n",
    "\n",
    "iupui.edu 536\n",
    "\n",
    "umich.edu 491\n",
    "\n",
    "indiana.edu 178\n",
    "\n",
    "caret.cam.ac.uk 157\n",
    "\n",
    "vt.edu 110\n",
    "\n",
    "uct.ac.za 96\n",
    "\n",
    "media.berkeley.edu 56\n",
    "\n",
    "ufp.pt 28\n",
    "\n",
    "gmail.com 25\n",
    "\n",
    "et.gatech.edu 17\n"
   ]
  },
  {
   "cell_type": "code",
   "execution_count": null,
   "metadata": {},
   "outputs": [],
   "source": []
  },
  {
   "cell_type": "markdown",
   "metadata": {},
   "source": [
    "<img src=\"images\\Fig2.5.png\" style=\"height:300px\">\n",
    "    "
   ]
  },
  {
   "cell_type": "code",
   "execution_count": null,
   "metadata": {},
   "outputs": [],
   "source": []
  }
 ],
 "metadata": {
  "kernelspec": {
   "display_name": "Python 3",
   "language": "python",
   "name": "python3"
  },
  "language_info": {
   "codemirror_mode": {
    "name": "ipython",
    "version": 3
   },
   "file_extension": ".py",
   "mimetype": "text/x-python",
   "name": "python",
   "nbconvert_exporter": "python",
   "pygments_lexer": "ipython3",
   "version": "3.8.3"
  }
 },
 "nbformat": 4,
 "nbformat_minor": 4
}
